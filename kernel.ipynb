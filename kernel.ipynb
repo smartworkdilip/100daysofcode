{
  "cells": [
    {
      "metadata": {
        "_uuid": "4d612521648ef28e4fb77d121c97ff6cf60cfe82"
      },
      "cell_type": "markdown",
      "source": "This notebook contain Sentiment analysis of tweets on a Analtics vidya [Practice problem](https://datahack.analyticsvidhya.com/contest/practice-problem-twitter-sentiment-analysis/).This is basically a baseline kernel for that problem and if you want more information about the competititon you can visit the link and participate in that competition."
    },
    {
      "metadata": {
        "_uuid": "8f2839f25d086af736a60e9eeb907d3b93b6e0e5",
        "_cell_guid": "b1076dfc-b9ad-4769-8c92-a6c4dae69d19",
        "trusted": true
      },
      "cell_type": "code",
      "source": "# This Python 3 environment comes with many helpful analytics libraries installed\n# It is defined by the kaggle/python docker image: https://github.com/kaggle/docker-python\n# For example, here's several helpful packages to load in \n\nimport numpy as np # linear algebra\nimport pandas as pd # data processing, CSV file I/O (e.g. pd.read_csv)\n\n# Input data files are available in the \"../input/\" directory.\n# For example, running this (by clicking run or pressing Shift+Enter) will list the files in the input directory\n\nimport os\nprint(os.listdir(\"../input\"))\n\n# Any results you write to the current directory are saved as output.",
      "execution_count": null,
      "outputs": []
    },
    {
      "metadata": {
        "_cell_guid": "79c7e3d0-c299-4dcb-8224-4455121ee9b0",
        "_uuid": "d629ff2d2480ee46fbb7e2d37f6b5fab8052498a",
        "trusted": true
      },
      "cell_type": "code",
      "source": "train=pd.read_csv('../input/train.csv')\ntest=pd.read_csv('../input/test.csv')\nsample=pd.read_csv('../input/sample_submission.csv')",
      "execution_count": null,
      "outputs": []
    },
    {
      "metadata": {
        "trusted": true,
        "_uuid": "68b24abee4456873f8133ed4cd96b5b137525a06"
      },
      "cell_type": "code",
      "source": "comb=train.append(test,ignore_index=True)",
      "execution_count": null,
      "outputs": []
    },
    {
      "metadata": {
        "trusted": true,
        "_uuid": "40894b52d1db10b2e42442d1f00e4b85885a7622"
      },
      "cell_type": "code",
      "source": "comb.shape",
      "execution_count": null,
      "outputs": []
    },
    {
      "metadata": {
        "trusted": true,
        "_uuid": "3d8972d732442e0f26ac5eeb3546891da491d6af"
      },
      "cell_type": "code",
      "source": "train['length']=train['tweet'].apply(len)",
      "execution_count": null,
      "outputs": []
    },
    {
      "metadata": {
        "trusted": true,
        "_uuid": "ff1bc47f28dd56e3a3c3babf987b796d710da583"
      },
      "cell_type": "code",
      "source": "train.head()",
      "execution_count": null,
      "outputs": []
    },
    {
      "metadata": {
        "trusted": true,
        "_uuid": "203de787603d890a9eebb1b3a44cc190604853f5"
      },
      "cell_type": "code",
      "source": "train.describe()",
      "execution_count": null,
      "outputs": []
    },
    {
      "metadata": {
        "trusted": true,
        "_uuid": "26f2aa06943c3f6d06c90021c6424558ba8f7801"
      },
      "cell_type": "code",
      "source": "train[train['length']==274]['tweet'].iloc[0]",
      "execution_count": null,
      "outputs": []
    },
    {
      "metadata": {
        "trusted": true,
        "_uuid": "7d9fd61ffa8fa3630914d6572ac23c1faf71cad9"
      },
      "cell_type": "code",
      "source": "train['length'].plot(bins=50,kind='hist')",
      "execution_count": null,
      "outputs": []
    },
    {
      "metadata": {
        "trusted": true,
        "_uuid": "4c4a9dda42b05bdfc224b566f99d4e75089d5234"
      },
      "cell_type": "code",
      "source": "train['tweet'].iloc[0]\ntrain.head()",
      "execution_count": null,
      "outputs": []
    },
    {
      "metadata": {
        "trusted": true,
        "_uuid": "818b101b49e05885825c7af1549ba32c50b94ff2"
      },
      "cell_type": "code",
      "source": "import re\nimport matplotlib.pyplot as plt\nimport seaborn as sns\nimport string\nimport nltk\nimport warnings\nwarnings.filterwarnings(\"ignore\",category=DeprecationWarning)\n",
      "execution_count": null,
      "outputs": []
    },
    {
      "metadata": {
        "trusted": true,
        "_uuid": "3634e551c9e789a0cab0f82c47554da6644cb91b"
      },
      "cell_type": "code",
      "source": "def remove_pattern(input_txt,pattern):\n    r=re.findall(pattern,input_txt)\n    for i in r:\n        input_txt = re.sub(i,'',input_txt)\n    return input_txt",
      "execution_count": null,
      "outputs": []
    },
    {
      "metadata": {
        "trusted": true,
        "_uuid": "83bef5fba3d43283943d5a6fafcba6adf546b010"
      },
      "cell_type": "code",
      "source": "comb['tidy_tweet'] = np.vectorize(remove_pattern)(comb['tweet'],\"@[\\w]*\")",
      "execution_count": null,
      "outputs": []
    },
    {
      "metadata": {
        "trusted": true,
        "_uuid": "59aafc3e36ac90925bcf4f7f77d143a2825a4a2e"
      },
      "cell_type": "code",
      "source": "comb.head()",
      "execution_count": null,
      "outputs": []
    },
    {
      "metadata": {
        "trusted": true,
        "_uuid": "5c533db0d1b904ea7c41d116e2f75e8adf52f319"
      },
      "cell_type": "code",
      "source": "comb['tidy_tweet']=comb['tidy_tweet'].str.replace(\"[^a-zA-Z#]\",\" \")",
      "execution_count": null,
      "outputs": []
    },
    {
      "metadata": {
        "trusted": true,
        "_uuid": "ed2b102b150946f1b39f9de50c1f2c932b95842c"
      },
      "cell_type": "code",
      "source": "comb.head()",
      "execution_count": null,
      "outputs": []
    },
    {
      "metadata": {
        "trusted": true,
        "_uuid": "84cae2c616e5f807c706b8106294f53bde7f1b7f"
      },
      "cell_type": "code",
      "source": "comb['tidy_tweet'] = comb['tidy_tweet'].apply(lambda x: ' '.join([w for w in x.split() if len(w)>3]))",
      "execution_count": null,
      "outputs": []
    },
    {
      "metadata": {
        "trusted": true,
        "_uuid": "807c9489c308cda3e04b3d8105c57bdcdea2aee9"
      },
      "cell_type": "code",
      "source": "comb.head()",
      "execution_count": null,
      "outputs": []
    },
    {
      "metadata": {
        "trusted": true,
        "_uuid": "282259753b67eadd1d09fc45d95a3877940c8712"
      },
      "cell_type": "code",
      "source": "#bow_transformer = CountVectorizer(analyzer=text_process).fit(train['tweet'])",
      "execution_count": null,
      "outputs": []
    },
    {
      "metadata": {
        "trusted": true,
        "_uuid": "86339749455b6c5b2d0f70d6a58ea3185517b8b1"
      },
      "cell_type": "code",
      "source": "tokenized_tweet = comb['tidy_tweet'].apply(lambda x:x.split())",
      "execution_count": null,
      "outputs": []
    },
    {
      "metadata": {
        "trusted": true,
        "_uuid": "c1444c994fcd7bc3205d01484ad23f01218b010b"
      },
      "cell_type": "code",
      "source": "tokenized_tweet.head()",
      "execution_count": null,
      "outputs": []
    },
    {
      "metadata": {
        "trusted": true,
        "_uuid": "6ddd31b12f01428388712d6d04e8245a02b18a47"
      },
      "cell_type": "code",
      "source": "from nltk.stem.porter import *\nstemmer = PorterStemmer()\ntokenized_tweet = tokenized_tweet.apply(lambda x:[stemmer.stem(i) for i in x])",
      "execution_count": null,
      "outputs": []
    },
    {
      "metadata": {
        "trusted": true,
        "_uuid": "33f7fb84c9fb3c939f9194940413fe1d9d250fc1"
      },
      "cell_type": "code",
      "source": "tokenized_tweet.head()",
      "execution_count": null,
      "outputs": []
    },
    {
      "metadata": {
        "trusted": true,
        "_uuid": "15bbf24a4394bac24131d60b7d8fbe7045a5ac8b"
      },
      "cell_type": "code",
      "source": "for i in range(len(tokenized_tweet)):\n    tokenized_tweet[i] = ' '.join(tokenized_tweet[i])\ncomb['tidy_tweet'] = tokenized_tweet",
      "execution_count": null,
      "outputs": []
    },
    {
      "metadata": {
        "trusted": true,
        "_uuid": "d871df5e446c05dbdde92536a90208f70f956eb2"
      },
      "cell_type": "code",
      "source": "comb.head()",
      "execution_count": null,
      "outputs": []
    },
    {
      "metadata": {
        "trusted": true,
        "_uuid": "a13042defbab6fe33a65a8f6b571145b4f9bcaa6"
      },
      "cell_type": "code",
      "source": "all_words = ' '.join([text for text in comb['tidy_tweet']])\nfrom wordcloud import WordCloud\nwordcloud = WordCloud(width=800,height=500,random_state=21,max_font_size=110).generate(all_words)\nplt.figure(figsize=(10,7))\nplt.imshow(wordcloud,interpolation =\"bilinear\")\nplt.axis('off')\nplt.show()",
      "execution_count": null,
      "outputs": []
    },
    {
      "metadata": {
        "trusted": true,
        "_uuid": "b6db81731f36ad9a3c9850dd7199268200002699"
      },
      "cell_type": "code",
      "source": "normal_words = ' '.join([text for text in comb['tidy_tweet'][comb['label'] ==0]])\nwordcloud=WordCloud(width=800,height=500,random_state=21,max_font_size=110).generate(normal_words)\nplt.figure(figsize=(10,7))\nplt.imshow(wordcloud,interpolation='bilinear')\nplt.axis('off')\nplt.show()",
      "execution_count": null,
      "outputs": []
    },
    {
      "metadata": {
        "trusted": true,
        "_uuid": "37bc242d8519d7731951de27d199fc5c2409bedf"
      },
      "cell_type": "code",
      "source": "racist_words = ' '.join([text for text in comb['tidy_tweet'][comb['label']==1]])\nwordcloud=WordCloud(width=800,height=500,random_state=21,max_font_size = 110).generate(racist_words)\nplt.figure(figsize=(10,7))\nplt.imshow(wordcloud,interpolation=\"bilinear\")\nplt.axis('off')\nplt.show()",
      "execution_count": null,
      "outputs": []
    },
    {
      "metadata": {
        "trusted": true,
        "_uuid": "a3b8a913923569b81c0da305deb5c104f1114f26"
      },
      "cell_type": "code",
      "source": "def hashtag_extract(x):\n    hashtag = []\n    for i in x:\n        ht = re.findall(r\"#(\\w+)\",i)\n        hashtag.append(ht)\n        \n    return hashtag",
      "execution_count": null,
      "outputs": []
    },
    {
      "metadata": {
        "trusted": true,
        "_uuid": "698e89c70953dc72d1b4c8878f7fdccf525d660c"
      },
      "cell_type": "code",
      "source": "ht_regular = hashtag_extract(comb['tidy_tweet'][comb['label']==0])\nht_negative = hashtag_extract(comb['tidy_tweet'][comb['label']==1])\nht_regular = sum(ht_regular,[])\nht_negative = sum(ht_negative,[])\n#print(ht_regular)",
      "execution_count": null,
      "outputs": []
    },
    {
      "metadata": {
        "trusted": true,
        "_uuid": "bd576cd6cfdfacd2f0a4df7303dbfc8d3423a6ea"
      },
      "cell_type": "code",
      "source": "a = nltk.FreqDist(ht_regular)\nd = pd.DataFrame({'Hashtag': list(a.keys()),\n                  'Count': list(a.values())})\n# selecting top 10 most frequent hashtags     \nd = d.nlargest(columns=\"Count\", n = 10) \nplt.figure(figsize=(16,5))\nax = sns.barplot(data=d, x= \"Hashtag\", y = \"Count\")\nax.set(ylabel = 'Count')\nplt.show()",
      "execution_count": null,
      "outputs": []
    },
    {
      "metadata": {
        "trusted": true,
        "_uuid": "58734775e85d4f42d5a4b52471376b00003abaf2"
      },
      "cell_type": "code",
      "source": "a = nltk.FreqDist(ht_negative)\nd = pd.DataFrame({'Hashtag': list(a.keys()),\n                  'Count': list(a.values())})\n# selecting top 10 most frequent hashtags     \nd = d.nlargest(columns=\"Count\", n = 10) \nplt.figure(figsize=(16,5))\nax = sns.barplot(data=d, x= \"Hashtag\", y = \"Count\")\nax.set(ylabel = 'Count')\nplt.show()",
      "execution_count": null,
      "outputs": []
    },
    {
      "metadata": {
        "trusted": true,
        "_uuid": "fed438511f9cacaf7a09739f4714008dc20babff"
      },
      "cell_type": "code",
      "source": "from sklearn.feature_extraction.text import CountVectorizer\nbow_vectorizer = CountVectorizer(max_df=0.90, min_df=2, max_features=1000, stop_words='english')\nbow = bow_vectorizer.fit_transform(comb['tidy_tweet'])",
      "execution_count": null,
      "outputs": []
    },
    {
      "metadata": {
        "trusted": true,
        "_uuid": "70f2f98a445af04f7fe6e3c0dd91d73c0e05b49d"
      },
      "cell_type": "code",
      "source": "from sklearn.feature_extraction.text import TfidfVectorizer\ntfidf_vectorizer = TfidfVectorizer(max_df=0.90, min_df=2, max_features=1000, stop_words='english')\ntfidf = tfidf_vectorizer.fit_transform(comb['tidy_tweet'])",
      "execution_count": null,
      "outputs": []
    },
    {
      "metadata": {
        "trusted": true,
        "_uuid": "9ddbb2ac9c748b2c3d23a984480cd752901ec942"
      },
      "cell_type": "code",
      "source": "from sklearn.linear_model import LogisticRegression\nfrom sklearn.model_selection import train_test_split\nfrom sklearn.metrics import f1_score\nfrom sklearn.naive_bayes import MultinomialNB\nfrom xgboost import XGBRegressor\n\ntrain_bow = bow[:31962,:]\ntest_bow = bow[31962:,:]\n\n\nxtrain_bow, xvalid_bow, ytrain, yvalid = train_test_split(train_bow, train['label'], random_state=42, test_size=0.3)\n\nlreg = LogisticRegression()\n#lreg.fit(xtrain_bow, ytrain) \n\n#prediction = lreg.predict_proba(xvalid_bow) \n#prediction_int = prediction[:,1] >= 0.3  \n#prediction_int = prediction_int.astype(np.int)\n\n#f1_score(yvalid, prediction_int)",
      "execution_count": null,
      "outputs": []
    },
    {
      "metadata": {
        "trusted": true,
        "_uuid": "126c26cd2f95e3fb8a9f8380719aa0711eeddaa8"
      },
      "cell_type": "code",
      "source": "train_tfidf=tfidf[:31962,:]\ntest_tfidf=tfidf[31962:,:]\nxtrain_tfidf = train_tfidf[ytrain.index]\nxvalid_tfidf = train_tfidf[yvalid.index]\nlreg.fit(xtrain_tfidf,ytrain)\nprediction = lreg.predict_proba(xvalid_tfidf)\nprediction_int = prediction[:,1] >=0.3\nprediction_int = prediction_int.astype(np.int)\nf1_score(yvalid,prediction_int)",
      "execution_count": null,
      "outputs": []
    },
    {
      "metadata": {
        "trusted": true,
        "_uuid": "80c8bef81a0c60078501c2fbbf6a62f548a0d269"
      },
      "cell_type": "code",
      "source": "test_pred= lreg.predict_proba(test_tfidf)\ntest_pred_int=test_pred[:,1] >=0.3\ntest_pred_int = test_pred_int.astype(np.int)\ntest['label']=test_pred_int\nsubmission = test[['id','label']]\nsubmission.to_csv('123.csv',index=False)",
      "execution_count": null,
      "outputs": []
    },
    {
      "metadata": {
        "trusted": true,
        "_uuid": "87577f66b23388d18c686f8685ebcabd2941f942"
      },
      "cell_type": "code",
      "source": "",
      "execution_count": null,
      "outputs": []
    }
  ],
  "metadata": {
    "kernelspec": {
      "display_name": "Python 3",
      "language": "python",
      "name": "python3"
    },
    "language_info": {
      "name": "python",
      "version": "3.6.6",
      "mimetype": "text/x-python",
      "codemirror_mode": {
        "name": "ipython",
        "version": 3
      },
      "pygments_lexer": "ipython3",
      "nbconvert_exporter": "python",
      "file_extension": ".py"
    }
  },
  "nbformat": 4,
  "nbformat_minor": 1
}